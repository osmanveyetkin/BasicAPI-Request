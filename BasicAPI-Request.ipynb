{
 "cells": [
  {
   "cell_type": "code",
   "execution_count": 1,
   "id": "32967bdf",
   "metadata": {},
   "outputs": [],
   "source": [
    "import json\n",
    "import requests"
   ]
  },
  {
   "cell_type": "code",
   "execution_count": 2,
   "id": "c520504d",
   "metadata": {},
   "outputs": [],
   "source": [
    "# iTunes API'nin temel URL'si\n",
    "itunes_base_url = 'https://itunes.apple.com/search'"
   ]
  },
  {
   "cell_type": "code",
   "execution_count": 5,
   "id": "c6f06790",
   "metadata": {},
   "outputs": [],
   "source": [
    "#  Sanatçı şarkılarını çekmek için parametreler (Türkçe karakterleri düzeltelim: Taylor)\n",
    "itunes_parameters = {\n",
    "        'term': 'Tame Impala',\n",
    "    'media': 'music',  # Müzik ortamında ara\n",
    "    'entity': 'song',  # Yalnızca şarkıları getir\n",
    "    'limit': 10        # İlk 10 şarkıyı getir (isteğe bağlı limit)\n",
    "}\n",
    "\n"
   ]
  },
  {
   "cell_type": "code",
   "execution_count": 6,
   "id": "c0086a8a",
   "metadata": {},
   "outputs": [],
   "source": [
    "# API isteğini yapma\n",
    "itunes_response = requests.get(itunes_base_url, params=itunes_parameters)\n"
   ]
  },
  {
   "cell_type": "code",
   "execution_count": 7,
   "id": "46812821",
   "metadata": {},
   "outputs": [
    {
     "name": "stdout",
     "output_type": "stream",
     "text": [
      "200\n"
     ]
    }
   ],
   "source": [
    "# print(itunes_response.status_code) # Test Point Başarılı bir kontrol için 200 dönmeli\n"
   ]
  },
  {
   "cell_type": "code",
   "execution_count": 8,
   "id": "ae765fe2",
   "metadata": {},
   "outputs": [],
   "source": [
    "\n",
    "# Yanıtı JSON'dan Python nesnesine dönüştür\n",
    "itunes_data = itunes_response.json()\n"
   ]
  },
  {
   "cell_type": "code",
   "execution_count": 9,
   "id": "f83b7124",
   "metadata": {},
   "outputs": [
    {
     "name": "stdout",
     "output_type": "stream",
     "text": [
      "\n",
      " Sanatçıdan 10 adet şarkı:\n",
      "  - Let It Happen (Currents)\n",
      "  - New Person, Same Old Mistakes (Currents)\n",
      "  - Borderline (The Slow Rush)\n",
      "  - Eventually (Currents)\n",
      "  - One More Hour (The Slow Rush)\n",
      "  - Feels Like We Only Go Backwards (Lonerism)\n",
      "  - Is It True (The Slow Rush)\n",
      "  - Lost in Yesterday (The Slow Rush)\n",
      "  - Elephant (Lonerism)\n",
      "  - Nangs (Currents)\n"
     ]
    }
   ],
   "source": [
    "\n",
    "# Bütün şarkıları yazdırma\n",
    "# Şarkılar 'results' anahtarı altındaki bir listede bulunur\n",
    "if 'results' in itunes_data:\n",
    "    print(f\"\\n Sanatçıdan {len(itunes_data['results'])} adet şarkı:\")\n",
    "    # Şarkı adını (trackName) ve sanatçı adını (artistName) yazdıralım\n",
    "    for song in itunes_data['results']:\n",
    "        # Şarkı adı, Sanatçı Adı, Albüm Adı (varsa)\n",
    "        print(f\"  - {song.get('trackName', 'Bilinmeyen Şarkı Adı')} ({song.get('collectionName', 'Bilinmeyen Albüm')})\")\n",
    "else:\n",
    "    print(\"Sonuç bulunamadı.\")"
   ]
  },
  {
   "cell_type": "code",
   "execution_count": null,
   "id": "5644074d",
   "metadata": {},
   "outputs": [],
   "source": []
  }
 ],
 "metadata": {
  "kernelspec": {
   "display_name": "sentiment (py311, np1.26)",
   "language": "python",
   "name": "sentiment"
  },
  "language_info": {
   "codemirror_mode": {
    "name": "ipython",
    "version": 3
   },
   "file_extension": ".py",
   "mimetype": "text/x-python",
   "name": "python",
   "nbconvert_exporter": "python",
   "pygments_lexer": "ipython3",
   "version": "3.11.13"
  }
 },
 "nbformat": 4,
 "nbformat_minor": 5
}
